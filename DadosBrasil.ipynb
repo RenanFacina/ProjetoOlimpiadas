{
 "cells": [
  {
   "cell_type": "code",
   "execution_count": 3,
   "id": "8c9132fa",
   "metadata": {},
   "outputs": [
    {
     "name": "stdout",
     "output_type": "stream",
     "text": [
      "\n",
      "Estatisticas do Brasil nos jogos:\n",
      "Numero de participações do Brasil nos jogos de verão:  23\n",
      "Numero de medalhas de ouro nos jogos de verão:  37\n",
      "Numero de medalhas de bronze nos jogos de verão:  71\n",
      "Numero de participações do Brasil nos jogos de inverno:  9\n",
      "Numero de medalhas de ouro nos jogos de inverno:  0\n",
      "Numero de medalhas de bronze nos jogos de inverno:  0\n"
     ]
    }
   ],
   "source": [
    "import pandas as pd\n",
    "import numpy as np\n",
    "\n",
    "dados = pd.read_csv(\"olympics_medals_country_wise.csv\")\n",
    "\n",
    "#print(dados)\n",
    "\n",
    "columns = {'countries ': 'country', 'ioc_code ': 'ioc_code',\n",
    "                   'total_total ': 'total_total'}\n",
    "dados.rename(columns = columns, inplace=True)\n",
    "dados.columns\n",
    "\n",
    "# Dados do Brasil nos jogos ---------------------------------------------------------    \n",
    "\n",
    "print(\"\\nEstatisticas do Brasil nos jogos:\")\n",
    "# Verão\n",
    "brasil = pd.DataFrame(dados.iloc[16,:]).reset_index()\n",
    "bra_part_ver = brasil.iloc[2, 1] # numero de participações\n",
    "print(\"Numero de participações do Brasil nos jogos de verão: \", bra_part_ver)\n",
    "bra_ouro_v = brasil.iloc[3, 1] # numero de medalhas de ouro\n",
    "print(\"Numero de medalhas de ouro nos jogos de verão: \", bra_ouro_v)\n",
    "bra_bronze_v = brasil.iloc[5, 1] # numero de medalhas de bronze\n",
    "print(\"Numero de medalhas de bronze nos jogos de verão: \", bra_bronze_v)\n",
    "\n",
    "# Inverno\n",
    "brasil = pd.DataFrame(dados.iloc[16,:]).reset_index()\n",
    "bra_part_inv = brasil.iloc[7, 1] # numero de participações\n",
    "print(\"Numero de participações do Brasil nos jogos de inverno: \", bra_part_inv)\n",
    "bra_ouro_i = brasil.iloc[8, 1] # numero de medalhas de ouro\n",
    "print(\"Numero de medalhas de ouro nos jogos de inverno: \", bra_ouro_i)\n",
    "bra_bronze_i = brasil.iloc[10, 1] # numero de medalhas de ouro\n",
    "print(\"Numero de medalhas de bronze nos jogos de inverno: \", bra_bronze_i)\n",
    "#print(brasil)"
   ]
  }
 ],
 "metadata": {
  "kernelspec": {
   "display_name": "Python 3 (ipykernel)",
   "language": "python",
   "name": "python3"
  },
  "language_info": {
   "codemirror_mode": {
    "name": "ipython",
    "version": 3
   },
   "file_extension": ".py",
   "mimetype": "text/x-python",
   "name": "python",
   "nbconvert_exporter": "python",
   "pygments_lexer": "ipython3",
   "version": "3.11.4"
  }
 },
 "nbformat": 4,
 "nbformat_minor": 5
}
