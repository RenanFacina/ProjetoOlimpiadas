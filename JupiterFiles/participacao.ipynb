{
 "cells": [
  {
   "cell_type": "code",
   "execution_count": 1,
   "id": "6b1c0d04",
   "metadata": {},
   "outputs": [
    {
     "name": "stdout",
     "output_type": "stream",
     "text": [
      "                            countries  ioc_code   summer_participations   \n",
      "0                          Afghanistan     (AFG)                     15  \\\n",
      "1                              Algeria     (ALG)                     14   \n",
      "2                            Argentina     (ARG)                     25   \n",
      "3                              Armenia     (ARM)                      7   \n",
      "4                          Australasia     (ANZ)                      2   \n",
      "..                                 ...       ...                    ...   \n",
      "151                             Zambia     (ZAM)                     14   \n",
      "152                           Zimbabwe     (ZIM)                     14   \n",
      "153       Independent Olympic Athletes     (IOA)                      3   \n",
      "154  Independent Olympic Participants      (IOP)                      1   \n",
      "155                        Mixed Team      (ZZX)                      3   \n",
      "\n",
      "    summer_gold  summer_silver  summer_bronze summer_total   \n",
      "0             0              0              2            2  \\\n",
      "1             5              4              8           17   \n",
      "2            21             26             30           77   \n",
      "3             2              8              8           18   \n",
      "4             3              4              5           12   \n",
      "..          ...            ...            ...          ...   \n",
      "151           0              1              1            2   \n",
      "152           3              4              1            8   \n",
      "153           1              0              1            2   \n",
      "154           0              1              2            3   \n",
      "155          11              6              8           25   \n",
      "\n",
      "     winter_participations  winter_gold  winter_silver  winter_bronze   \n",
      "0                        0            0              0              0  \\\n",
      "1                        3            0              0              0   \n",
      "2                       20            0              0              0   \n",
      "3                        8            0              0              0   \n",
      "4                        0            0              0              0   \n",
      "..                     ...          ...            ...            ...   \n",
      "151                      0            0              0              0   \n",
      "152                      1            0              0              0   \n",
      "153                      0            0              0              0   \n",
      "154                      0            0              0              0   \n",
      "155                      0            0              0              0   \n",
      "\n",
      "     winter_total  total_participation total_gold  total_silver  total_bronze   \n",
      "0               0                   15          0             0             2  \\\n",
      "1               0                   17          5             4             8   \n",
      "2               0                   45         21            26            30   \n",
      "3               0                   15          2             8             8   \n",
      "4               0                    2          3             4             5   \n",
      "..            ...                  ...        ...           ...           ...   \n",
      "151             0                   14          0             1             1   \n",
      "152             0                   15          3             4             1   \n",
      "153             0                    3          1             0             1   \n",
      "154             0                    1          0             1             2   \n",
      "155             0                    3         11             6             8   \n",
      "\n",
      "    total_total   \n",
      "0              2  \n",
      "1             17  \n",
      "2             77  \n",
      "3             18  \n",
      "4             12  \n",
      "..           ...  \n",
      "151            2  \n",
      "152            8  \n",
      "153            2  \n",
      "154            3  \n",
      "155           25  \n",
      "\n",
      "[156 rows x 17 columns]\n"
     ]
    }
   ],
   "source": [
    "import pandas as pd\n",
    "\n",
    "dados = pd.read_csv(\"olympics_medals_country_wise.csv\")\n",
    "print(dados)"
   ]
  },
  {
   "cell_type": "code",
   "execution_count": 2,
   "id": "e8876e01",
   "metadata": {},
   "outputs": [
    {
     "data": {
      "text/plain": [
       "Index(['country', 'ioc_code', 'summer_participations', 'summer_gold',\n",
       "       'summer_silver', 'summer_bronze', 'summer_total',\n",
       "       'winter_participations', 'winter_gold', 'winter_silver',\n",
       "       'winter_bronze', 'winter_total', 'total_participation', 'total_gold',\n",
       "       'total_silver', 'total_bronze', 'total_total'],\n",
       "      dtype='object')"
      ]
     },
     "execution_count": 2,
     "metadata": {},
     "output_type": "execute_result"
    }
   ],
   "source": [
    "columns = {'countries ': 'country', 'ioc_code ': 'ioc_code',\n",
    "                   'total_total ': 'total_total'}\n",
    "dados.rename(columns = columns, inplace=True)\n",
    "dados.columns"
   ]
  },
  {
   "cell_type": "code",
   "execution_count": 3,
   "id": "02993eb0",
   "metadata": {},
   "outputs": [
    {
     "name": "stdout",
     "output_type": "stream",
     "text": [
      "País com maior participação: France (29 participação.)\n"
     ]
    }
   ],
   "source": [
    "pais_com_mais_participacao_verao = dados.loc[dados['summer_participations'].idxmax()]['country']\n",
    "max_participacao_verao = dados['summer_participations'].max()\n",
    "print(f\"País com maior participação: {pais_com_mais_participacao_verao} ({max_participacao_verao} participação.)\")"
   ]
  },
  {
   "cell_type": "code",
   "execution_count": 4,
   "id": "34ffe700",
   "metadata": {},
   "outputs": [
    {
     "name": "stdout",
     "output_type": "stream",
     "text": [
      "País com maior participação: Austria (24 participação.)\n"
     ]
    }
   ],
   "source": [
    "pais_com_mais_participacao_inverno = dados.loc[dados['winter_participations'].idxmax()]['country']\n",
    "max_participacao_inverno = dados['winter_participations'].max()\n",
    "\n",
    "print(f\"País com maior participação: {pais_com_mais_participacao_inverno} ({max_participacao_inverno} participação.)\")\n"
   ]
  },
  {
   "cell_type": "code",
   "execution_count": 5,
   "id": "7da97b08",
   "metadata": {},
   "outputs": [
    {
     "name": "stdout",
     "output_type": "stream",
     "text": [
      "País com maior participação: France (53 participação.)\n"
     ]
    }
   ],
   "source": [
    "pais_com_mais_participacao = dados.loc[dados['total_participation'].idxmax()]['country']\n",
    "max_participacao = dados['total_participation'].max()\n",
    "print(f\"País com maior participação: {pais_com_mais_participacao} ({max_participacao} participação.)\")"
   ]
  },
  {
   "cell_type": "code",
   "execution_count": 6,
   "id": "2c3b2666",
   "metadata": {},
   "outputs": [
    {
     "name": "stdout",
     "output_type": "stream",
     "text": [
      "País com a menor participação: British West Indies (1 participação.)\n"
     ]
    }
   ],
   "source": [
    "pais_com_menos_participacao = dados.loc[dados['total_participation'].idxmin()]['country']\n",
    "menos_participacao = dados['total_participation'].min()\n",
    "print(f\"País com a menor participação: {pais_com_menos_participacao} ({menos_participacao} participação.)\")"
   ]
  },
  {
   "cell_type": "code",
   "execution_count": null,
   "id": "a8331d53",
   "metadata": {},
   "outputs": [],
   "source": []
  }
 ],
 "metadata": {
  "kernelspec": {
   "display_name": "Python 3 (ipykernel)",
   "language": "python",
   "name": "python3"
  },
  "language_info": {
   "codemirror_mode": {
    "name": "ipython",
    "version": 3
   },
   "file_extension": ".py",
   "mimetype": "text/x-python",
   "name": "python",
   "nbconvert_exporter": "python",
   "pygments_lexer": "ipython3",
   "version": "3.10.9"
  }
 },
 "nbformat": 4,
 "nbformat_minor": 5
}
