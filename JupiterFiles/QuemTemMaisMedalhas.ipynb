{
 "cells": [
  {
   "cell_type": "code",
   "execution_count": 44,
   "id": "afc2767a",
   "metadata": {},
   "outputs": [
    {
     "name": "stdout",
     "output_type": "stream",
     "text": [
      "O país com mais medalhas de ouro de verão é: South Korea\n",
      "Contendo 96 medalhas de ouro\n",
      "\n",
      "O país com mais medalhas de prata de verão é: United States\n",
      "Contendo 831 medalhas de prata\n",
      "\n",
      "O país com mais medalhas de bronze de verão é: United States\n",
      "Contendo 738 medalhas de bronze\n"
     ]
    }
   ],
   "source": [
    "import pandas as pd\n",
    "\n",
    "# Leitura do arquivo CSV\n",
    "dados = pd.read_csv(\"olympics_medals_country_wise.csv\")\n",
    "\n",
    "# Remover espaços em branco do nome das colunas\n",
    "dados.columns = dados.columns.str.strip()\n",
    "\n",
    "# --------------Pais com mais medalhas de Ouro Edição de Verão--------------------\n",
    "\n",
    "# Encontre a quantidade máxima de medalhas de ouro em uma edição de verão\n",
    "max_medalhas_ouro = dados[\"summer_gold\"].max()\n",
    "\n",
    "# Encontre os países que têm a quantidade máxima de medalhas de ouro em uma edição de verão\n",
    "paises_max_ouro = dados[dados[\"summer_gold\"] == max_medalhas_ouro]\n",
    "\n",
    "pais_max_ouro = paises_max_ouro[\"countries\"].iloc[0]\n",
    "\n",
    "print(f\"O país com mais medalhas de ouro de verão é: {pais_max_ouro}\")\n",
    "print(f\"Contendo {max_medalhas_ouro} medalhas de ouro\")\n",
    "\n",
    "# --------------Pais com mais medalhas de Prata Edição de Verão--------------------\n",
    "\n",
    "\n",
    "# Encontre a quantidade máxima de medalhas de ouro em uma edição de verão\n",
    "max_medalhas_prata = dados[\"summer_silver\"].max()\n",
    "\n",
    "# Encontre os países que têm a quantidade máxima de medalhas de ouro em uma edição de verão\n",
    "paises_max_prata = dados[dados[\"summer_silver\"] == max_medalhas_prata]\n",
    "\n",
    "pais_max_prata = paises_max_prata[\"countries\"].iloc[0]\n",
    "\n",
    "print(f\"\\nO país com mais medalhas de prata de verão é: {pais_max_prata}\")\n",
    "print(f\"Contendo {max_medalhas_prata} medalhas de prata\")\n",
    "\n",
    "# --------------Pais com mais medalhas de bronze Edição de Verão--------------------\n",
    "\n",
    "\n",
    "# Encontre a quantidade máxima de medalhas de ouro em uma edição de verão\n",
    "max_medalhas_bronze = dados[\"summer_bronze\"].max()\n",
    "\n",
    "# Encontre os países que têm a quantidade máxima de medalhas de ouro em uma edição de verão\n",
    "paises_max_bronze = dados[dados[\"summer_bronze\"] == max_medalhas_bronze]\n",
    "\n",
    "pais_max_bronze = paises_max_bronze[\"countries\"].iloc[0]\n",
    "\n",
    "print(f\"\\nO país com mais medalhas de bronze de verão é: {pais_max_bronze}\")\n",
    "print(f\"Contendo {max_medalhas_bronze} medalhas de bronze\")"
   ]
  },
  {
   "cell_type": "code",
   "execution_count": 45,
   "id": "a7bf7347",
   "metadata": {},
   "outputs": [
    {
     "name": "stdout",
     "output_type": "stream",
     "text": [
      "O país com mais medalhas de ouro de inverno é: Norway\n",
      "Contendo 148 medalhas de ouro\n",
      "\n",
      "O país com mais medalhas de prata de inverno é: Norway\n",
      "Contendo 133 medalhas de prata\n",
      "\n",
      "O país com mais medalhas de bronze de inverno é: Norway\n",
      "Contendo 124 medalhas de bronze\n"
     ]
    }
   ],
   "source": [
    "# Remover espaços em branco do nome das colunas\n",
    "dados.columns = dados.columns.str.strip()\n",
    "\n",
    "# --------------Pais com mais medalhas de Ouro Edição de Inverno--------------------\n",
    "\n",
    "# Encontre a quantidade máxima de medalhas de ouro em uma edição de inverno\n",
    "max_medalhas_ouro = dados[\"winter_gold\"].max()\n",
    "\n",
    "# Encontre os países que têm a quantidade máxima de medalhas de ouro em uma edição de inverno\n",
    "paises_max_ouro = dados[dados[\"winter_gold\"] == max_medalhas_ouro]\n",
    "\n",
    "pais_max_ouro = paises_max_ouro[\"countries\"].iloc[0]\n",
    "\n",
    "print(f\"O país com mais medalhas de ouro de inverno é: {pais_max_ouro}\")\n",
    "print(f\"Contendo {max_medalhas_ouro} medalhas de ouro\")\n",
    "\n",
    "# --------------Pais com mais medalhas de Prata Edição de Inverno--------------------\n",
    "\n",
    "\n",
    "# Encontre a quantidade máxima de medalhas de ouro em uma edição de inverno\n",
    "max_medalhas_prata = dados[\"winter_silver\"].max()\n",
    "\n",
    "# Encontre os países que têm a quantidade máxima de medalhas de ouro em uma edição de inverno\n",
    "paises_max_prata = dados[dados[\"winter_silver\"] == max_medalhas_prata]\n",
    "\n",
    "pais_max_prata = paises_max_prata[\"countries\"].iloc[0]\n",
    "\n",
    "print(f\"\\nO país com mais medalhas de prata de inverno é: {pais_max_prata}\")\n",
    "print(f\"Contendo {max_medalhas_prata} medalhas de prata\")\n",
    "\n",
    "# --------------Pais com mais medalhas de bronze Edição de Inverno--------------------\n",
    "\n",
    "\n",
    "# Encontre a quantidade máxima de medalhas de ouro em uma edição de inverno\n",
    "max_medalhas_bronze = dados[\"winter_bronze\"].max()\n",
    "\n",
    "# Encontre os países que têm a quantidade máxima de medalhas de ouro em uma edição de inverno\n",
    "paises_max_bronze = dados[dados[\"winter_bronze\"] == max_medalhas_bronze]\n",
    "\n",
    "pais_max_bronze = paises_max_bronze[\"countries\"].iloc[0]\n",
    "\n",
    "print(f\"\\nO país com mais medalhas de bronze de inverno é: {pais_max_bronze}\")\n",
    "print(f\"Contendo {max_medalhas_bronze} medalhas de bronze\")"
   ]
  }
 ],
 "metadata": {
  "kernelspec": {
   "display_name": "Python 3 (ipykernel)",
   "language": "python",
   "name": "python3"
  },
  "language_info": {
   "codemirror_mode": {
    "name": "ipython",
    "version": 3
   },
   "file_extension": ".py",
   "mimetype": "text/x-python",
   "name": "python",
   "nbconvert_exporter": "python",
   "pygments_lexer": "ipython3",
   "version": "3.11.4"
  }
 },
 "nbformat": 4,
 "nbformat_minor": 5
}
