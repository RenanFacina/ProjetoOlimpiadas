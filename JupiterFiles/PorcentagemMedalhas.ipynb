{
 "cells": [
  {
   "cell_type": "code",
   "execution_count": 36,
   "id": "5bc60716",
   "metadata": {},
   "outputs": [
    {
     "name": "stdout",
     "output_type": "stream",
     "text": [
      "Porcentagem de Medalhas por País\n",
      "\n",
      "Digite o país desejado (em Inglês): Argentina\n",
      "\n",
      "Argentina tem 77.0 medalhas\n",
      "A porcentagem de medalhas do país Argentina é: 0.48%\n"
     ]
    }
   ],
   "source": [
    "import pandas as pd\n",
    "\n",
    "# Leitura do arquivo CSV\n",
    "dados = pd.read_csv(\"olympics_medals_country_wise.csv\")\n",
    "\n",
    "# Titulo\n",
    "print(\"Porcentagem de Medalhas por País\")\n",
    "\n",
    "# Inserir o país\n",
    "pais = input(\"\\nDigite o país desejado (em Inglês): \")\n",
    "\n",
    "# Remover espaços em branco do nome das colunas e converter a coluna \"total_total\" em números\n",
    "dados.columns = dados.columns.str.strip()\n",
    "dados['total_total'] = pd.to_numeric(dados['total_total'], errors='coerce')\n",
    "\n",
    "# Verificar se o país está na lista de países disponíveis\n",
    "if pais in dados['countries'].unique():\n",
    "    \n",
    "    # Seleciona o pais da coluna \"countries\"\n",
    "    pais_desejado = dados[dados['countries'] == pais]\n",
    "\n",
    "    # Medalhas totais do pais selecionado\n",
    "    medalhas_pais = pais_desejado[\"total_total\"].sum()\n",
    "\n",
    "    # Calcula a soma total de medalhas\n",
    "    soma_medalhas = dados[\"total_total\"].sum()\n",
    "\n",
    "    # Calcula a porcentagem de medalhas do pais escolhido\n",
    "    porcentagem = (medalhas_pais / soma_medalhas) * 100\n",
    "\n",
    "# Resultados\n",
    "    print(f\"\\n{pais} tem {medalhas_pais} medalhas\")\n",
    "    print(f\"A porcentagem de medalhas do país {pais} é: {porcentagem:.2f}%\")\n",
    "else:\n",
    "    print(f\"\\n{pais} é um país inválido.\\nEscolha um país válido ou verifique a ortografia e se está em Inglês.\")\n"
   ]
  }
 ],
 "metadata": {
  "kernelspec": {
   "display_name": "Python 3 (ipykernel)",
   "language": "python",
   "name": "python3"
  },
  "language_info": {
   "codemirror_mode": {
    "name": "ipython",
    "version": 3
   },
   "file_extension": ".py",
   "mimetype": "text/x-python",
   "name": "python",
   "nbconvert_exporter": "python",
   "pygments_lexer": "ipython3",
   "version": "3.11.4"
  }
 },
 "nbformat": 4,
 "nbformat_minor": 5
}
